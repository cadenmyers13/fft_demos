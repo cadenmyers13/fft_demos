{
 "cells": [
  {
   "cell_type": "code",
   "execution_count": 2,
   "metadata": {},
   "outputs": [
    {
     "data": {
      "application/vnd.jupyter.widget-view+json": {
       "model_id": "aba35cf7e7cf4d448e27c7065b525133",
       "version_major": 2,
       "version_minor": 0
      },
      "text/plain": [
       "interactive(children=(IntSlider(value=100, description='Detector position', max=500, min=10, step=5), IntSlide…"
      ]
     },
     "metadata": {},
     "output_type": "display_data"
    },
    {
     "data": {
      "text/plain": [
       "<function __main__.diffraction_playground(detector_x=100, num_slits=2, slit_width=3, slit_sep=20, wavelength=5.0, random_spacing=False)>"
      ]
     },
     "execution_count": 2,
     "metadata": {},
     "output_type": "execute_result"
    }
   ],
   "source": [
    "import numpy as np\n",
    "import matplotlib.pyplot as plt\n",
    "from matplotlib.animation import FuncAnimation\n",
    "from ipywidgets import interact, IntSlider, FloatSlider, Checkbox\n",
    "\n",
    "def diffraction_playground(detector_x=100, num_slits=2, slit_width=3, slit_sep=20, wavelength=5.0, random_spacing=False,):\n",
    "    size = 500\n",
    "    detector_height = 50  # height of the 2D detector display\n",
    "    \n",
    "    # Slit positions along left edge\n",
    "    mid = size // 2\n",
    "    if random_spacing:\n",
    "        slit_positions = np.random.randint(slit_width//2, size - slit_width//2, size=num_slits).tolist()\n",
    "    else:\n",
    "        if num_slits == 1:\n",
    "            slit_positions = [mid]\n",
    "        else:\n",
    "            slit_positions = [(mid - (num_slits-1)*slit_sep//2 + i*slit_sep) for i in range(num_slits)]\n",
    "    \n",
    "    # 2D grid\n",
    "    y = np.arange(size).reshape(-1,1)\n",
    "    x = np.arange(size).reshape(1,-1)\n",
    "    \n",
    "    # Precompute distances from slits\n",
    "    r_list = []\n",
    "    for pos in slit_positions:\n",
    "        r = np.sqrt((y - pos)**2 + x**2) + 1e-6\n",
    "        r_list.append(r)\n",
    "    \n",
    "\n",
    "    # Set up figure\n",
    "    fig, (ax1, ax2) = plt.subplots(1,2, figsize=(12,6))\n",
    "    im = ax1.imshow(np.zeros((size, size)), cmap='bwr', origin='lower', vmin=-2, vmax=2)\n",
    "    detector_line = ax1.axvline(x=detector_x, color='black', linestyle='--', linewidth=2, label='Detector')\n",
    "    # add a color bar to ax1\n",
    "    plt.colorbar(im, ax=ax1, fraction=0.046, pad=0.04)\n",
    "    ax1.set_title(\"Wave Interference (Bird's-eye View)\")\n",
    "    ax1.legend()\n",
    "    \n",
    "    im2 = ax2.imshow(np.zeros((detector_height, size)), origin='lower', aspect='auto', cmap='bwr', vmin=0, vmax=1)\n",
    "    ax2.set_title(\"Detector Intensity (2D)\")\n",
    "    for pos in slit_positions:\n",
    "        ax1.hlines(y=pos, xmin=0, xmax=10, color='black', linewidth=5)\n",
    "\n",
    "    def update(frame):\n",
    "        t = frame / 5.0\n",
    "        amplitude = np.zeros((size, size))\n",
    "        for r in r_list:\n",
    "            amplitude += np.sin(2 * np.pi * r / wavelength - 2*np.pi*t)\n",
    "        im.set_array(amplitude)\n",
    "        \n",
    "        # Detector sees intensity along the column at detector_x\n",
    "        intensity = amplitude[:, detector_x]**2\n",
    "        intensity /= intensity.max()  # normalize for visibility\n",
    "        \n",
    "        # Convert to 2D by repeating the row\n",
    "        detector_2d = np.tile(intensity, (detector_height,1))\n",
    "        im2.set_array(detector_2d.T)\n",
    "        \n",
    "        return [im, im2, detector_line]\n",
    "\n",
    "    anim = FuncAnimation(fig, update, frames=100, interval=50, blit=True)\n",
    "    plt.show()\n",
    "\n",
    "interact(\n",
    "    diffraction_playground,\n",
    "    detector_x=IntSlider(value=100, min=10, max=500, step=5, description='Detector position'),\n",
    "    num_slits=IntSlider(value=2, min=1, max=50, step=1, description='Slits'),\n",
    "    slit_width=IntSlider(value=3, min=1, max=50, step=1, description='Slit Width'),\n",
    "    slit_sep=IntSlider(value=20, min=5, max=50, step=1, description='Slit Sep'),\n",
    "    wavelength=FloatSlider(value=5.0, min=1.0, max=20.0, step=0.5, description='Wavelength'),\n",
    "    random_spacing=Checkbox(value=False, description='Random Spacing')\n",
    ")\n",
    "\n"
   ]
  }
 ],
 "metadata": {
  "kernelspec": {
   "display_name": "skl",
   "language": "python",
   "name": "python3"
  },
  "language_info": {
   "codemirror_mode": {
    "name": "ipython",
    "version": 3
   },
   "file_extension": ".py",
   "mimetype": "text/x-python",
   "name": "python",
   "nbconvert_exporter": "python",
   "pygments_lexer": "ipython3",
   "version": "3.11.13"
  }
 },
 "nbformat": 4,
 "nbformat_minor": 2
}
